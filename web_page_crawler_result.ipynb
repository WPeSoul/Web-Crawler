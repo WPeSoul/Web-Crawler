{
 "cells": [
  {
   "cell_type": "code",
   "execution_count": 1,
   "id": "initial_id",
   "metadata": {
    "collapsed": true,
    "ExecuteTime": {
     "end_time": "2024-04-28T11:25:27.527243400Z",
     "start_time": "2024-04-28T11:25:27.456966500Z"
    }
   },
   "outputs": [],
   "source": [
    "from web_page_crawler import web_crawler"
   ]
  },
  {
   "cell_type": "code",
   "outputs": [
    {
     "name": "stdout",
     "output_type": "stream",
     "text": [
      "Visiting: https://spbu.ru/    1\n",
      "Error fetching page: HTTPSConnectionPool(host='spbu.ru', port=443): Max retries exceeded with url: / (Caused by ConnectTimeoutError(<urllib3.connection.HTTPSConnection object at 0x000002D5E65BEE70>, 'Connection to spbu.ru timed out. (connect timeout=None)'))\n",
      "Website Statistics:\n",
      "Total Pages Visited: 0\n",
      "Internal Pages: 0\n",
      "Total Links Collected: 0\n",
      "External Resources: 0\n",
      "Unique doc/docx/pdf files: 0\n"
     ]
    }
   ],
   "source": [
    "start_url = 'https://spbu.ru/'\n",
    "web_crawler(start_url, 40000)"
   ],
   "metadata": {
    "collapsed": false,
    "ExecuteTime": {
     "end_time": "2024-04-28T11:25:50.225082900Z",
     "start_time": "2024-04-28T11:25:29.183672100Z"
    }
   },
   "id": "c3adb268ea187ba4",
   "execution_count": 2
  },
  {
   "cell_type": "code",
   "outputs": [],
   "source": [],
   "metadata": {
    "collapsed": false
   },
   "id": "37c4b263b2261bf7"
  }
 ],
 "metadata": {
  "kernelspec": {
   "display_name": "Python 3",
   "language": "python",
   "name": "python3"
  },
  "language_info": {
   "codemirror_mode": {
    "name": "ipython",
    "version": 2
   },
   "file_extension": ".py",
   "mimetype": "text/x-python",
   "name": "python",
   "nbconvert_exporter": "python",
   "pygments_lexer": "ipython2",
   "version": "2.7.6"
  }
 },
 "nbformat": 4,
 "nbformat_minor": 5
}
